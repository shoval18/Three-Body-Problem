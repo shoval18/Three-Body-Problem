{
  "cells": [
    {
      "cell_type": "code",
      "source": [
        "import math\n",
        "from scipy import integrate\n",
        "import numpy as np\n",
        "from scipy.integrate import odeint\n",
        "import random\n",
        "import matplotlib.pyplot as plt\n",
        "from matplotlib.animation import FuncAnimation"
      ],
      "metadata": {
        "id": "g-Xm4fMBQmCz"
      },
      "execution_count": 75,
      "outputs": []
    },
    {
      "cell_type": "code",
      "source": [
        "bodies = 3\n",
        "N = bodies * 4\n",
        "# position = [random.randint(-100,100) for _ in range(N)]\n",
        "# velocity = [random.randint(-,100) for _ in range(N)]\n",
        "\n",
        "#motion = [random.randint(-100,100) for _ in range(N)]\n",
        "\n",
        "prob = np.zeros(3)\n",
        "\n",
        "G = 1\n",
        "au = 1\n",
        "mass = [10 ,15,20] \n",
        "r = np.zeros(3)\n",
        "velo = np.zeros(3)\n",
        "shift=[-1,0,1]\n",
        "\n",
        "# G = 6.674e-11\n",
        "# Msun = 1.989e+30\n",
        "# mass = [15 * Msun,15 * Msun,15 * Msun] \n",
        "# au = 1.495e+11\n",
        "# velo = 30000"
      ],
      "metadata": {
        "id": "FvIXITAJeX0R"
      },
      "execution_count": 76,
      "outputs": []
    },
    {
      "cell_type": "code",
      "source": [
        "def derivative(motion):\n",
        "\n",
        "    d_motion = np.zeros(bodies*4)\n",
        "    \n",
        "    for i in range(bodies):\n",
        "        I = i * 4\n",
        "        d_motion[I+0] = motion[I + 2]\n",
        "        d_motion[I+1] = motion[I + 3]\n",
        "        d_motion[I+2] = acceleration(motion,i,0)\n",
        "        d_motion[I+3] = acceleration(motion,i,1)\n",
        "        # d_motion[I+2] = 0\n",
        "        # d_motion[I+3] = 0\n",
        "    \n",
        "    return d_motion\n",
        "\n",
        "\n",
        "\n",
        "def acceleration(motion, i, coordinate):\n",
        "    \n",
        "    result = 0\n",
        "    I = i * 4 \n",
        "    for j in range(bodies):\n",
        "        if(i == j):\n",
        "             continue\n",
        "        J = j * 4 \n",
        "        totalDist=r[j+shift[i]]\n",
        "        result += -G * mass[j] * (motion[I + coordinate] - motion[J + coordinate]) / pow(totalDist,3)\n",
        "    \n",
        "    return result\n",
        "    \n",
        "\n",
        "def R(x1,y1,x2,y2):\n",
        "    deltaX = x1-x2\n",
        "    deltaY = y1-y2\n",
        "    r = math.sqrt(pow(deltaX,2) + pow(deltaY,2))\n",
        "    return r\n",
        "\n",
        "def V(v1,v2):\n",
        "    velocity = math.sqrt(pow(v1,2)+pow(v2,2))\n",
        "    return velocity\n",
        "\n",
        "def calculateEnergy():\n",
        "  E=0\n",
        "  for i in range(bodies):\n",
        "    for j in range(bodies):\n",
        "      if(j<=i):\n",
        "        continue\n",
        "      E += -(G*mass[i]*mass[j])/r[j+shift[i]]\n",
        "    \n",
        "    E += (mass[i]* pow(velo[i],2))/2\n",
        "  return E\n"
      ],
      "metadata": {
        "id": "9Ks68pOcf-cX"
      },
      "execution_count": 77,
      "outputs": []
    },
    {
      "cell_type": "code",
      "execution_count": 78,
      "metadata": {
        "id": "RqRmTZfxaz7A",
        "colab": {
          "base_uri": "https://localhost:8080/"
        },
        "outputId": "5dc308aa-6b9a-4645-8a90-ad190a559371"
      },
      "outputs": [
        {
          "output_type": "stream",
          "name": "stdout",
          "text": [
            "initial [1, 0, 0, 0.7, -1, 0, 0.0, -0.7, 200, 0, 1, 1]\n",
            "-51.37256243906097\n",
            "  final  [27651.782149228096, -9451.505274539226, 1.3814713287954743, -0.4700082250284939, -16661.32292634744, 2940.69336099195, -0.8313487701152009, 0.14722341980168416, 18869.850120148683, 19020.231791527898, 0.9327759131888074, 0.9495865476630853]\n",
            "-51.37256243906097\n",
            "19999998\n"
          ]
        }
      ],
      "source": [
        "# parameters\n",
        "delta_t = 0.001\n",
        "steps = 20000000\n",
        "dots = []\n",
        "\n",
        "motion= [1,0,0,0.7,-1,0,0.,-0.7,200,0,1,1]\n",
        "print(\"initial\", motion)\n",
        "\n",
        "dots.append(motion[0])\n",
        "dots.append(motion[1])\n",
        "dots.append(motion[4])\n",
        "dots.append(motion[5])\n",
        "dots.append(motion[8])\n",
        "dots.append(motion[9])\n",
        "\n",
        "for t in range(steps-1):\n",
        "  \n",
        "  r[0] = R(motion[0],motion[1],motion[4],motion[5])\n",
        "  r[1] = R(motion[0],motion[1],motion[8],motion[9])\n",
        "  r[2] = R(motion[4],motion[5],motion[8],motion[9])\n",
        "  velo[0] = V(motion[2],motion[3])\n",
        "  velo[1] = V(motion[6],motion[7])\n",
        "  velo[2] = V(motion[10],motion[11])\n",
        "\n",
        "  if(t==0):\n",
        "    E= calculateEnergy()\n",
        "    print(E)\n",
        "  \n",
        "  d_motion = derivative(motion)\n",
        "\n",
        "  if (E>=0):\n",
        "    break\n",
        "\n",
        "  for k in range(bodies):\n",
        "    K = k * 4\n",
        "    motion[K] = motion[K] + d_motion[K]*delta_t\n",
        "    motion[K + 1] = motion[K + 1] + d_motion[K + 1] * delta_t\n",
        "    motion[K + 2] = d_motion[K] + d_motion[K + 2] * delta_t\n",
        "    motion[K + 3] = d_motion[K + 1] + d_motion[K + 3] * delta_t\n",
        "\n",
        "    dots.append(motion[K])\n",
        "    dots.append(motion[K+1])\n",
        "\n",
        "  # # bound\n",
        "  # if(E < 0):\n",
        "  #   s=2\n",
        "  # # unbounded\n",
        "  # else:\n",
        "  #   s=3    \n",
        "print(\"  final \", motion)\n",
        "print(E)\n",
        "print(t)\n",
        "\n",
        "  # #     \n",
        "  # RR = [r02+r01,r01+r12,r02+r12]\n",
        "  # g=max(RR)\n",
        "  # for o in range(3):\n",
        "  #       if(RR[o] == g):\n",
        "  #           prob[o]+=1\n",
        "  #           break"
      ]
    },
    {
      "cell_type": "code",
      "source": [
        "# x1 = list()\n",
        "# x2 = list()\n",
        "# x3 = list()\n",
        "# y1 = list()\n",
        "# y2 = list()\n",
        "# y3 = list()\n",
        "# for i in range(0,len(dots),6):\n",
        "#   x1.append(dots[i])\n",
        "#   y1.append(dots[i+1])\n",
        "#   x2.append(dots[i+2])\n",
        "#   y2.append(dots[i+3])\n",
        "#   x3.append(dots[i+4])\n",
        "#   y3.append(dots[i+5])\n",
        "\n",
        "\n",
        "# def my_func(i):\n",
        "#   plt.plot(x1, y1, label = \"mass 1\")\n",
        "#   plt.plot(x2, y2, label = \"mass 2\")\n",
        "#   plt.plot(x3, y3, label = \"mass 3\")\n",
        "#   plt.legend()\n",
        "\n",
        "#   #     if(k==0):\n",
        "#   #       ax1.plot(motion[K],motion[K+1], color='green')\n",
        "#   #       # plt.scatter(motion[K],motion[K+1])\n",
        "#   #       # plt.pause(0.05)\n",
        "\n"
      ],
      "metadata": {
        "id": "EmIMukafgBf2"
      },
      "execution_count": 79,
      "outputs": []
    },
    {
      "cell_type": "code",
      "source": [
        "x1 = list()\n",
        "x2 = list()\n",
        "x3 = list()\n",
        "y1 = list()\n",
        "y2 = list()\n",
        "y3 = list()\n",
        "for i in range(0,len(dots),6):\n",
        "  x1.append(dots[i])\n",
        "  y1.append(dots[i+1])\n",
        "  x2.append(dots[i+2])\n",
        "  y2.append(dots[i+3])\n",
        "  x3.append(dots[i+4])\n",
        "  y3.append(dots[i+5])\n",
        "\n",
        "plt.plot(x1, y1, label = \"mass 1\")\n",
        "plt.plot(x2, y2, label = \"mass 2\")\n",
        "plt.plot(x3, y3, label = \"mass 3\")\n",
        "plt.legend()\n",
        "plt.show()\n",
        "\n",
        "\n",
        "\n",
        "  \n"
      ],
      "metadata": {
        "id": "uwSD4k-PTVU2",
        "colab": {
          "base_uri": "https://localhost:8080/",
          "height": 266
        },
        "outputId": "11a9856a-0101-4cea-d9fa-7364a21fe780"
      },
      "execution_count": 80,
      "outputs": [
        {
          "output_type": "display_data",
          "data": {
            "text/plain": [
              "<Figure size 432x288 with 1 Axes>"
            ],
            "image/png": "[encoded data removed]"
          },
          "metadata": {
            "needs_background": "light"
          }
        }
      ]
    },
    {
      "cell_type": "code",
      "source": [
        "# # fig = plt.figure()\n",
        "# # ax1 = fig.add_subplot(122)\n",
        "# ani = FuncAnimation(fig, my_func, frames=20, interval=500, repeat=False)\n",
        "# plt.show()\n"
      ],
      "metadata": {
        "id": "q-aeuaUthpTt"
      },
      "execution_count": 81,
      "outputs": []
    },
    {
      "cell_type": "code",
      "source": [
        "prob/(t+1)"
      ],
      "metadata": {
        "id": "grnjCDCqwk6Q",
        "colab": {
          "base_uri": "https://localhost:8080/"
        },
        "outputId": "76aa4ca7-61c6-47a9-f7a3-b13228a4420d"
      },
      "execution_count": 82,
      "outputs": [
        {
          "output_type": "execute_result",
          "data": {
            "text/plain": [
              "array([0., 0., 0.])"
            ]
          },
          "metadata": {},
          "execution_count": 82
        }
      ]
    }
  ],
  "metadata": {
    "kernelspec": {
      "display_name": "Python 3",
      "language": "python",
      "name": "python3"
    },
    "language_info": {
      "codemirror_mode": {
        "name": "ipython",
        "version": 3
      },
      "file_extension": ".py",
      "mimetype": "text/x-python",
      "name": "python",
      "nbconvert_exporter": "python",
      "pygments_lexer": "ipython3",
      "version": "3.8.3"
    },
    "colab": {
      "provenance": []
    },
    "accelerator": "GPU",
    "gpuClass": "standard"
  },
  "nbformat": 4,
  "nbformat_minor": 0
}