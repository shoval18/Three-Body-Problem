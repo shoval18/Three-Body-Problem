{
  "cells": [
    {
      "cell_type": "code",
      "source": [
        "import math\n",
        "from scipy import integrate\n",
        "import numpy as np\n",
        "from scipy.integrate import odeint\n",
        "import random\n",
        "import matplotlib.pyplot as plt\n",
        "from matplotlib.animation import FuncAnimation"
      ],
      "metadata": {
        "id": "g-Xm4fMBQmCz"
      },
      "execution_count": 75,
      "outputs": []
    },
    {
      "cell_type": "code",
      "source": [
        "bodies = 3\n",
        "N = bodies * 4\n",
        "# position = [random.randint(-100,100) for _ in range(N)]\n",
        "# velocity = [random.randint(-,100) for _ in range(N)]\n",
        "\n",
        "#v = [random.randint(-100,100) for _ in range(N)]\n",
        "# we use it later to sum the escapers\n",
        "prob = np.zeros(3)\n",
        "\n",
        "G = 1\n",
        "au = 1\n",
        "mass = [10 ,15,20] \n",
        "\n",
        "# G = 6.674e-11\n",
        "# Msun = 1.989e+30\n",
        "# mass = [15 * Msun,15 * Msun,15 * Msun] \n",
        "# au = 1.495e+11\n",
        "# velo = 30000"
      ],
      "metadata": {
        "id": "FvIXITAJeX0R"
      },
      "execution_count": 76,
      "outputs": []
    },
    {
      "cell_type": "code",
      "source": [
        "def derivative(v):\n",
        "\n",
        "    dv = np.zeros(bodies*4)\n",
        "    \n",
        "    for i in range(bodies):\n",
        "        J = i * 4\n",
        "        dv[J+0] = v[J + 2]\n",
        "        dv[J+1] = v[J + 3]\n",
        "        dv[J+2] = acceleration(v,i,0)\n",
        "        dv[J+3] = acceleration(v,i,1)\n",
        "        # dv[J+2] = 0\n",
        "        # dv[J+3] = 0\n",
        "    \n",
        "    return dv\n",
        "\n",
        "\n",
        "\n",
        "def acceleration(v, j1, coordinate):\n",
        "    \n",
        "    result = 0\n",
        "    j2 = j1 * 4 \n",
        "    for j3 in range(bodies):\n",
        "        if(j1 == j3):\n",
        "             continue\n",
        "        j4 = j3 * 4 \n",
        "        totalDist=R(v[j4 + 0],v[j4 + 1],v[j2 + 0],v[j2 + 1])\n",
        "        result += -G * mass[j3] * (v[j2 + coordinate] - v[j4 + coordinate]) / pow(totalDist,3)\n",
        "    \n",
        "    return result\n",
        "    \n",
        "\n",
        "def R(x1,y1,x2,y2):\n",
        "    deltaX = x1-x2\n",
        "    deltaY = y1-y2\n",
        "    r = math.sqrt(pow(deltaX,2) + pow(deltaY,2))\n",
        "    return r\n",
        "\n",
        "def V(v1,v2):\n",
        "    velocity = math.sqrt(pow(v1,2)+pow(v2,2))\n",
        "    return velocity\n",
        "\n",
        "\n",
        "def calculateEnergy(v):\n",
        "  r01 = R(v[0],v[1],v[4],v[5])\n",
        "  r02 = R(v[0],v[1],v[8],v[9])\n",
        "  r12 = R(v[4],v[5],v[8],v[9])\n",
        "  v0 = V(v[2],v[3])\n",
        "  v1 = V(v[6],v[7])\n",
        "  v2 = V(v[10],v[11])\n",
        "  E = -(G*mass[0]*mass[1])/r01 -(G*mass[0]*mass[2])/r02 -(G*mass[2]*mass[1])/r12 +(mass[0] * pow(v0,2))/2 + (mass[1] * pow(v1,2))/2 + (mass[2] * pow(v2,2))/2\n",
        "  return E,r01,r02,r12\n",
        "  "
      ],
      "metadata": {
        "id": "9Ks68pOcf-cX"
      },
      "execution_count": 77,
      "outputs": []
    },
    {
      "cell_type": "code",
      "execution_count": 78,
      "metadata": {
        "id": "RqRmTZfxaz7A",
        "colab": {
          "base_uri": "https://localhost:8080/"
        },
        "outputId": "5f49b0e0-56cc-4a3a-d5a7-79c8fe70b94e"
      },
      "outputs": [
        {
          "output_type": "stream",
          "name": "stdout",
          "text": [
            "36770.07432770268\n",
            "initial [10, 30, 0.7, 0.7, -10, -30, 0.0, -70, 200, 0, 1, 1]\n",
            "  final  [159.14551921221718, 168.81525708198814, 0.7859143101376399, 0.6955861379056456, -9.69841539118298, -14029.250546792322, 0.0015276502473359295, -69.99648398585447, 395.19970193728557, 200.08143155300257, 0.9558971072456597, 0.9995699204369592]\n",
            "36770.07302922011\n",
            "199998\n"
          ]
        }
      ],
      "source": [
        "# parameters\n",
        "delta_t = 0.001\n",
        "steps = 200000\n",
        "dots = []\n",
        "\n",
        "v= [10,30,0.7,0.7,-10,-30,0.,-70,200,0,1,1]\n",
        "# v = [10*au,1*au,0.5*velo,-0.3*velo,11*au,2*au,-0.2*velo,0.10*velo,12*au,0*au,0.5*velo,0.3*velo]\n",
        "[E,r01,r02,r12] = calculateEnergy(v)\n",
        "print(E)\n",
        "print(\"initial\", v)\n",
        "dots.append(v[0])\n",
        "dots.append(v[1])\n",
        "dots.append(v[4])\n",
        "dots.append(v[5])\n",
        "dots.append(v[8])\n",
        "dots.append(v[9])\n",
        "\n",
        "for t in range(steps-1):\n",
        "  [E,r01,r02,r12] = calculateEnergy(v)\n",
        "\n",
        "  u = derivative(v)\n",
        "  # if (E>=0):\n",
        "  #   break\n",
        "  for k in range(bodies):\n",
        "    K = k * 4\n",
        "    v[K] = v[K] + u[K]*delta_t\n",
        "    v[K + 1] = v[K + 1] + u[K + 1] * delta_t\n",
        "    v[K + 2] = u[K] + u[K + 2] * delta_t\n",
        "    v[K + 3] = u[K + 1] + u[K + 3] * delta_t\n",
        "\n",
        "    dots.append(v[K])\n",
        "    dots.append(v[K+1])\n",
        "  # if(t!=0 and t%40000==0):\n",
        "  #   print(t)\n",
        "  #   print(v)\n",
        "  [E,r01,r02,r12] = calculateEnergy(v)\n",
        "  # # bound\n",
        "  # if(E < 0):\n",
        "  #   s=2\n",
        "  # # unbounded\n",
        "  # else:\n",
        "  #   s=3    \n",
        "print(\"  final \", v)\n",
        "print(E)\n",
        "print(t)\n",
        "  # r01 = R(v[0],v[1],v[4],v[5])\n",
        "  # r02 = R(v[0],v[1],v[8],v[9])\n",
        "  # r12 = R(v[4],v[5],v[8],v[9])\n",
        "  # #     \n",
        "  # RR = [r02+r01,r01+r12,r02+r12]\n",
        "  # g=max(RR)\n",
        "  # for o in range(3):\n",
        "  #       if(RR[o] == g):\n",
        "  #           prob[o]+=1\n",
        "  #           break"
      ]
    },
    {
      "cell_type": "code",
      "source": [
        "x1 = list()\n",
        "x2 = list()\n",
        "x3 = list()\n",
        "y1 = list()\n",
        "y2 = list()\n",
        "y3 = list()\n",
        "for i in range(0,len(dots),6):\n",
        "  x1.append(dots[i])\n",
        "  y1.append(dots[i+1])\n",
        "  x2.append(dots[i+2])\n",
        "  y2.append(dots[i+3])\n",
        "  x3.append(dots[i+4])\n",
        "  y3.append(dots[i+5])\n",
        "\n",
        "\n",
        "def my_func(i):\n",
        "  plt.plot(x1, y1, label = \"mass 1\")\n",
        "  plt.plot(x2, y2, label = \"mass 2\")\n",
        "  plt.plot(x3, y3, label = \"mass 3\")\n",
        "  plt.legend()\n",
        "\n",
        "  #     if(k==0):\n",
        "  #       ax1.plot(v[K],v[K+1], color='green')\n",
        "  #       # plt.scatter(v[K],v[K+1])\n",
        "  #       # plt.pause(0.05)\n",
        "\n"
      ],
      "metadata": {
        "id": "EmIMukafgBf2"
      },
      "execution_count": 79,
      "outputs": []
    },
    {
      "cell_type": "code",
      "source": [
        "x1 = list()\n",
        "x2 = list()\n",
        "x3 = list()\n",
        "y1 = list()\n",
        "y2 = list()\n",
        "y3 = list()\n",
        "for i in range(0,len(dots),6):\n",
        "  x1.append(dots[i])\n",
        "  y1.append(dots[i+1])\n",
        "  x2.append(dots[i+2])\n",
        "  y2.append(dots[i+3])\n",
        "  x3.append(dots[i+4])\n",
        "  y3.append(dots[i+5])\n",
        "\n",
        "plt.plot(x1, y1, label = \"mass 1\")\n",
        "plt.plot(x2, y2, label = \"mass 2\")\n",
        "plt.plot(x3, y3, label = \"mass 3\")\n",
        "plt.legend()\n",
        "plt.show()\n",
        "\n",
        "\n",
        "\n",
        "  \n"
      ],
      "metadata": {
        "id": "uwSD4k-PTVU2",
        "colab": {
          "base_uri": "https://localhost:8080/",
          "height": 265
        },
        "outputId": "615865a4-0a83-487a-ac22-f2a5b270d1df"
      },
      "execution_count": 80,
      "outputs": [
        {
          "output_type": "display_data",
          "data": {
            "text/plain": [
              "<Figure size 432x288 with 1 Axes>"
            ],
            "image/png": "[encoded data removed]"
          },
          "metadata": {
            "needs_background": "light"
          }
        }
      ]
    },
    {
      "cell_type": "code",
      "source": [
        "# fig = plt.figure()\n",
        "# ax1 = fig.add_subplot(122)\n",
        "ani = FuncAnimation(fig, my_func, frames=20, interval=500, repeat=False)\n",
        "plt.show()\n"
      ],
      "metadata": {
        "id": "q-aeuaUthpTt",
        "colab": {
          "base_uri": "https://localhost:8080/",
          "height": 217
        },
        "outputId": "f42fb7b3-4711-486a-b3f8-5f89d7c996b0"
      },
      "execution_count": 81,
      "outputs": [
        {
          "output_type": "error",
          "ename": "NameError",
          "evalue": "ignored",
          "traceback": [
            "\u001b[0;31m---------------------------------------------------------------------------\u001b[0m",
            "\u001b[0;31mNameError\u001b[0m                                 Traceback (most recent call last)",
            "\u001b[0;32m<ipython-input-81-299e4dfe01a9>\u001b[0m in \u001b[0;36m<module>\u001b[0;34m\u001b[0m\n\u001b[1;32m      1\u001b[0m \u001b[0;31m# fig = plt.figure()\u001b[0m\u001b[0;34m\u001b[0m\u001b[0;34m\u001b[0m\u001b[0;34m\u001b[0m\u001b[0m\n\u001b[1;32m      2\u001b[0m \u001b[0;31m# ax1 = fig.add_subplot(122)\u001b[0m\u001b[0;34m\u001b[0m\u001b[0;34m\u001b[0m\u001b[0;34m\u001b[0m\u001b[0m\n\u001b[0;32m----> 3\u001b[0;31m \u001b[0mani\u001b[0m \u001b[0;34m=\u001b[0m \u001b[0mFuncAnimation\u001b[0m\u001b[0;34m(\u001b[0m\u001b[0mfig\u001b[0m\u001b[0;34m,\u001b[0m \u001b[0mmy_func\u001b[0m\u001b[0;34m,\u001b[0m \u001b[0mframes\u001b[0m\u001b[0;34m=\u001b[0m\u001b[0;36m20\u001b[0m\u001b[0;34m,\u001b[0m \u001b[0minterval\u001b[0m\u001b[0;34m=\u001b[0m\u001b[0;36m500\u001b[0m\u001b[0;34m,\u001b[0m \u001b[0mrepeat\u001b[0m\u001b[0;34m=\u001b[0m\u001b[0;32mFalse\u001b[0m\u001b[0;34m)\u001b[0m\u001b[0;34m\u001b[0m\u001b[0;34m\u001b[0m\u001b[0m\n\u001b[0m\u001b[1;32m      4\u001b[0m \u001b[0mplt\u001b[0m\u001b[0;34m.\u001b[0m\u001b[0mshow\u001b[0m\u001b[0;34m(\u001b[0m\u001b[0;34m)\u001b[0m\u001b[0;34m\u001b[0m\u001b[0;34m\u001b[0m\u001b[0m\n",
            "\u001b[0;31mNameError\u001b[0m: name 'fig' is not defined"
          ]
        }
      ]
    },
    {
      "cell_type": "code",
      "source": [
        "prob/(t+1)"
      ],
      "metadata": {
        "id": "grnjCDCqwk6Q"
      },
      "execution_count": null,
      "outputs": []
    },
    {
      "cell_type": "code",
      "source": [
        "import numpy as np\n",
        "import matplotlib.pyplot as plt\n",
        "\n",
        "plt.axis([0, 10, 0, 1])\n",
        "\n",
        "for i in range(10):\n",
        "    y = np.random.random()\n",
        "    plt.scatter(i, y)\n",
        "    plt.pause(0.05)\n",
        "\n",
        "plt.show()"
      ],
      "metadata": {
        "id": "oAkd_YJYbwHs"
      },
      "execution_count": null,
      "outputs": []
    }
  ],
  "metadata": {
    "kernelspec": {
      "display_name": "Python 3",
      "language": "python",
      "name": "python3"
    },
    "language_info": {
      "codemirror_mode": {
        "name": "ipython",
        "version": 3
      },
      "file_extension": ".py",
      "mimetype": "text/x-python",
      "name": "python",
      "nbconvert_exporter": "python",
      "pygments_lexer": "ipython3",
      "version": "3.8.3"
    },
    "colab": {
      "provenance": []
    },
    "accelerator": "GPU",
    "gpuClass": "standard"
  },
  "nbformat": 4,
  "nbformat_minor": 0
}